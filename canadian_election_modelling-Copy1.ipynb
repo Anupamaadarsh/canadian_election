{
 "cells": [
  {
   "cell_type": "code",
   "execution_count": 1,
   "id": "1ebabf6e",
   "metadata": {},
   "outputs": [],
   "source": [
    "import numpy as np\n",
    "import pandas as pd\n",
    "import matplotlib.pyplot as plt\n",
    "import seaborn as sns"
   ]
  },
  {
   "cell_type": "code",
   "execution_count": 2,
   "id": "6e96e4e2",
   "metadata": {},
   "outputs": [
    {
     "name": "stderr",
     "output_type": "stream",
     "text": [
      "C:\\Users\\HP\\AppData\\Local\\Temp\\ipykernel_15324\\2884330665.py:2: DtypeWarning: Columns (10,11) have mixed types. Specify dtype option on import or set low_memory=False.\n",
      "  df=pd.read_csv(\"federal-candidates-2021-10-20.csv\")\n"
     ]
    }
   ],
   "source": [
    "#read the dataset\n",
    "df=pd.read_csv(\"federal-candidates-2021-10-20.csv\")"
   ]
  },
  {
   "cell_type": "markdown",
   "id": "47743001",
   "metadata": {},
   "source": [
    "Since lgbtq_out, country_birth fewsture having more than 95% of missing values so we can drop these"
   ]
  },
  {
   "cell_type": "code",
   "execution_count": 3,
   "id": "74ce3e27",
   "metadata": {},
   "outputs": [],
   "source": [
    "data=df.copy()"
   ]
  },
  {
   "cell_type": "code",
   "execution_count": 4,
   "id": "db61775b",
   "metadata": {},
   "outputs": [],
   "source": [
    "# Added a new column age(the age of the candidate at the time of election) \n",
    "data['age'] = data['year'] - data['birth_year']"
   ]
  },
  {
   "cell_type": "code",
   "execution_count": 5,
   "id": "6326275a",
   "metadata": {},
   "outputs": [],
   "source": [
    "data = data.drop(['country_birth','lgbtq2_out','riding_id','birth_year' ],axis=1)"
   ]
  },
  {
   "cell_type": "code",
   "execution_count": 6,
   "id": "7c8112ef",
   "metadata": {},
   "outputs": [],
   "source": [
    "# filling the missing values in votes,percent votes with mean\n",
    "for x in ['votes','percent_votes','age']:\n",
    "    data[x] = data[x].fillna(data[x].mean())\n",
    "\n",
    "    \n",
    "# filling the missing values in catagorical colimns with mode\n",
    "cols = ['incumbent','acclaimed','gender','occupation','lawyer','censuscategory']\n",
    "for i in cols:\n",
    "    \n",
    "    data[i] = data[i].fillna(data[i].mode()[0])\n",
    "      "
   ]
  },
  {
   "cell_type": "code",
   "execution_count": 7,
   "id": "621a5fe5",
   "metadata": {},
   "outputs": [
    {
     "data": {
      "text/plain": [
       "id                    0\n",
       "parliament            0\n",
       "year                  0\n",
       "type_elxn             0\n",
       "elected               0\n",
       "candidate_name        0\n",
       "edate                 0\n",
       "incumbent             0\n",
       "gender                0\n",
       "indigenousorigins     0\n",
       "occupation            0\n",
       "lawyer                0\n",
       "censuscategory        0\n",
       "riding                0\n",
       "province              0\n",
       "votes                 0\n",
       "percent_votes         0\n",
       "acclaimed             0\n",
       "switcher              0\n",
       "multiple_candidacy    0\n",
       "party_raw             0\n",
       "party_minor_group     0\n",
       "party_major_group     0\n",
       "gov_party_raw         0\n",
       "gov_minor_group       0\n",
       "gov_major_group       0\n",
       "num_candidates        0\n",
       "age                   0\n",
       "dtype: int64"
      ]
     },
     "execution_count": 7,
     "metadata": {},
     "output_type": "execute_result"
    }
   ],
   "source": [
    "data.isna().sum()"
   ]
  },
  {
   "cell_type": "code",
   "execution_count": 8,
   "id": "fbfff451",
   "metadata": {},
   "outputs": [
    {
     "name": "stdout",
     "output_type": "stream",
     "text": [
      "1120.0\n",
      "4205.0\n",
      "10250.0\n"
     ]
    }
   ],
   "source": [
    "Q1=np.percentile(data['votes'],25,interpolation='midpoint')\n",
    "Q2=np.percentile(data['votes'],50,interpolation='midpoint')\n",
    "Q3=np.percentile(data['votes'],75,interpolation='midpoint')\n",
    "\n",
    "\n",
    "print(Q1)\n",
    "print(Q2)\n",
    "print(Q3)"
   ]
  },
  {
   "cell_type": "code",
   "execution_count": 9,
   "id": "e4bf984f",
   "metadata": {},
   "outputs": [
    {
     "name": "stdout",
     "output_type": "stream",
     "text": [
      "-12575.0\n",
      "23945.0\n"
     ]
    }
   ],
   "source": [
    "IQR=Q3-Q1\n",
    "low_limit=Q1-1.5*IQR\n",
    "up_limit=Q3+1.5*IQR\n",
    "print(low_limit)\n",
    "print(up_limit)"
   ]
  },
  {
   "cell_type": "code",
   "execution_count": 10,
   "id": "8c32a68a",
   "metadata": {},
   "outputs": [
    {
     "data": {
      "text/plain": [
       "Int64Index([ 6231,  8387,  8591,  8714,  9743, 10044, 10236, 10409, 10649,\n",
       "            10763,\n",
       "            ...\n",
       "            46403, 46404, 46412, 46424, 46431, 46435, 46491, 46495, 46509,\n",
       "            46517],\n",
       "           dtype='int64', length=2118)"
      ]
     },
     "execution_count": 10,
     "metadata": {},
     "output_type": "execute_result"
    }
   ],
   "source": [
    "outlier=[]\n",
    "for x in data['votes']:\n",
    "    if((x> up_limit) or (x<low_limit)):\n",
    "        outlier.append(x)\n",
    "ind=data['votes']>up_limit\n",
    "data.loc[ind].index"
   ]
  },
  {
   "cell_type": "code",
   "execution_count": 11,
   "id": "e75c5869",
   "metadata": {},
   "outputs": [],
   "source": [
    "ind1 = data.loc[ind].index\n",
    "data.drop(ind1,axis=0,inplace=True)"
   ]
  },
  {
   "cell_type": "markdown",
   "id": "56d05e01",
   "metadata": {},
   "source": [
    "We can drop candidate name as well as the election date.Since we are provided with election year so we can delete the date field and candidate name which is not relavent for our future prediction"
   ]
  },
  {
   "cell_type": "code",
   "execution_count": 12,
   "id": "e98d805b",
   "metadata": {},
   "outputs": [],
   "source": [
    "data = data.drop(['candidate_name','edate'],axis=1)"
   ]
  },
  {
   "cell_type": "code",
   "execution_count": 18,
   "id": "f6b7c0c4",
   "metadata": {},
   "outputs": [
    {
     "data": {
      "text/html": [
       "<div>\n",
       "<style scoped>\n",
       "    .dataframe tbody tr th:only-of-type {\n",
       "        vertical-align: middle;\n",
       "    }\n",
       "\n",
       "    .dataframe tbody tr th {\n",
       "        vertical-align: top;\n",
       "    }\n",
       "\n",
       "    .dataframe thead th {\n",
       "        text-align: right;\n",
       "    }\n",
       "</style>\n",
       "<table border=\"1\" class=\"dataframe\">\n",
       "  <thead>\n",
       "    <tr style=\"text-align: right;\">\n",
       "      <th></th>\n",
       "      <th>id</th>\n",
       "      <th>parliament</th>\n",
       "      <th>year</th>\n",
       "      <th>type_elxn</th>\n",
       "      <th>elected</th>\n",
       "      <th>incumbent</th>\n",
       "      <th>gender</th>\n",
       "      <th>indigenousorigins</th>\n",
       "      <th>occupation</th>\n",
       "      <th>lawyer</th>\n",
       "      <th>censuscategory</th>\n",
       "      <th>riding</th>\n",
       "      <th>province</th>\n",
       "      <th>votes</th>\n",
       "      <th>percent_votes</th>\n",
       "      <th>acclaimed</th>\n",
       "      <th>switcher</th>\n",
       "      <th>multiple_candidacy</th>\n",
       "      <th>party_raw</th>\n",
       "      <th>party_minor_group</th>\n",
       "      <th>party_major_group</th>\n",
       "      <th>gov_party_raw</th>\n",
       "      <th>gov_minor_group</th>\n",
       "      <th>gov_major_group</th>\n",
       "      <th>num_candidates</th>\n",
       "      <th>age</th>\n",
       "      <th>e_month</th>\n",
       "      <th>e_day</th>\n",
       "    </tr>\n",
       "  </thead>\n",
       "  <tbody>\n",
       "    <tr>\n",
       "      <th>0</th>\n",
       "      <td>26093</td>\n",
       "      <td>1</td>\n",
       "      <td>1867</td>\n",
       "      <td>General</td>\n",
       "      <td>Elected</td>\n",
       "      <td>Not incumbent</td>\n",
       "      <td>M</td>\n",
       "      <td>Other</td>\n",
       "      <td>merchant</td>\n",
       "      <td>Other</td>\n",
       "      <td>Sales and service occupations</td>\n",
       "      <td>HALIFAX</td>\n",
       "      <td>Nova Scotia</td>\n",
       "      <td>2367.0</td>\n",
       "      <td>26.125828</td>\n",
       "      <td>Not acclaimed</td>\n",
       "      <td>Switcher</td>\n",
       "      <td>Single</td>\n",
       "      <td>Anti-Confederate</td>\n",
       "      <td>Third_Party</td>\n",
       "      <td>Third_Party</td>\n",
       "      <td>Conservative</td>\n",
       "      <td>Conservative</td>\n",
       "      <td>Conservative</td>\n",
       "      <td>4</td>\n",
       "      <td>52.0</td>\n",
       "      <td>8</td>\n",
       "      <td>7</td>\n",
       "    </tr>\n",
       "    <tr>\n",
       "      <th>1</th>\n",
       "      <td>13011</td>\n",
       "      <td>1</td>\n",
       "      <td>1867</td>\n",
       "      <td>General</td>\n",
       "      <td>Elected</td>\n",
       "      <td>Not incumbent</td>\n",
       "      <td>M</td>\n",
       "      <td>Other</td>\n",
       "      <td>merchant</td>\n",
       "      <td>Other</td>\n",
       "      <td>Sales and service occupations</td>\n",
       "      <td>HALIFAX</td>\n",
       "      <td>Nova Scotia</td>\n",
       "      <td>2381.0</td>\n",
       "      <td>26.280354</td>\n",
       "      <td>Not acclaimed</td>\n",
       "      <td>Switcher</td>\n",
       "      <td>Single</td>\n",
       "      <td>Labour</td>\n",
       "      <td>Labour</td>\n",
       "      <td>Third_Party</td>\n",
       "      <td>Conservative</td>\n",
       "      <td>Conservative</td>\n",
       "      <td>Conservative</td>\n",
       "      <td>4</td>\n",
       "      <td>43.0</td>\n",
       "      <td>8</td>\n",
       "      <td>7</td>\n",
       "    </tr>\n",
       "  </tbody>\n",
       "</table>\n",
       "</div>"
      ],
      "text/plain": [
       "      id  parliament  year type_elxn  elected      incumbent gender  \\\n",
       "0  26093           1  1867   General  Elected  Not incumbent      M   \n",
       "1  13011           1  1867   General  Elected  Not incumbent      M   \n",
       "\n",
       "  indigenousorigins occupation lawyer                 censuscategory   riding  \\\n",
       "0             Other   merchant  Other  Sales and service occupations  HALIFAX   \n",
       "1             Other   merchant  Other  Sales and service occupations  HALIFAX   \n",
       "\n",
       "      province   votes  percent_votes      acclaimed  switcher  \\\n",
       "0  Nova Scotia  2367.0      26.125828  Not acclaimed  Switcher   \n",
       "1  Nova Scotia  2381.0      26.280354  Not acclaimed  Switcher   \n",
       "\n",
       "  multiple_candidacy         party_raw party_minor_group party_major_group  \\\n",
       "0             Single  Anti-Confederate       Third_Party       Third_Party   \n",
       "1             Single            Labour            Labour       Third_Party   \n",
       "\n",
       "  gov_party_raw gov_minor_group gov_major_group  num_candidates   age  \\\n",
       "0  Conservative    Conservative    Conservative               4  52.0   \n",
       "1  Conservative    Conservative    Conservative               4  43.0   \n",
       "\n",
       "   e_month  e_day  \n",
       "0        8      7  \n",
       "1        8      7  "
      ]
     },
     "execution_count": 18,
     "metadata": {},
     "output_type": "execute_result"
    }
   ],
   "source": [
    "pd.set_option('display.max_columns',None)\n",
    "data.head(2)"
   ]
  },
  {
   "cell_type": "code",
   "execution_count": 31,
   "id": "ba5d1531",
   "metadata": {},
   "outputs": [],
   "source": [
    "# Encoding the catagorical columns\n",
    "\n",
    "from sklearn.preprocessing import LabelEncoder\n",
    "label_encoder = LabelEncoder()\n",
    "col = ['type_elxn','elected','incumbent','gender','indigenousorigins','occupation',\n",
    "       'lawyer','censuscategory','riding','province','acclaimed','switcher','multiple_candidacy','party_raw',\n",
    "       'party_minor_group','party_major_group','gov_party_raw','gov_minor_group','gov_major_group']\n",
    "for a in np.arange(len(col)):\n",
    "    data[col[a]] = label_encoder.fit_transform(data[col[a]])"
   ]
  },
  {
   "cell_type": "code",
   "execution_count": 32,
   "id": "1ef99ccc",
   "metadata": {},
   "outputs": [],
   "source": [
    "X = data.drop(['elected'],axis=1)\n",
    "Y = data['elected']"
   ]
  },
  {
   "cell_type": "code",
   "execution_count": 17,
   "id": "4ea73192",
   "metadata": {},
   "outputs": [],
   "source": [
    "# Scaling\n",
    "\n",
    "from sklearn.preprocessing import StandardScaler\n",
    "standard = StandardScaler()\n",
    "X = standard.fit_transform(X)"
   ]
  },
  {
   "cell_type": "code",
   "execution_count": 22,
   "id": "fb88ed60",
   "metadata": {},
   "outputs": [
    {
     "data": {
      "text/plain": [
       "array([[ 0.65710373, -2.31103827, -2.47240096, ...,  0.56894453,\n",
       "         0.16734019, -1.24588851],\n",
       "       [-0.46537072, -2.31103827, -2.47240096, ..., -1.24455417,\n",
       "         0.16734019, -1.24588851],\n",
       "       [ 0.81849911, -2.31103827, -2.47240096, ...,  0.00382246,\n",
       "         0.16734019, -1.24588851],\n",
       "       ...,\n",
       "       [ 1.51032845,  1.33546049,  1.26241446, ...,  0.00382246,\n",
       "         0.49579291,  0.29005868],\n",
       "       [ 1.23738921,  1.33546049,  1.26241446, ...,  2.5839431 ,\n",
       "         0.49579291,  0.29005868],\n",
       "       [ 1.50638152,  1.33546049,  1.26241446, ...,  0.00382246,\n",
       "         0.49579291,  0.29005868]])"
      ]
     },
     "execution_count": 22,
     "metadata": {},
     "output_type": "execute_result"
    }
   ],
   "source": [
    "X"
   ]
  },
  {
   "cell_type": "code",
   "execution_count": 33,
   "id": "75abd6bf",
   "metadata": {},
   "outputs": [],
   "source": [
    "from sklearn.model_selection import train_test_split\n",
    "\n",
    "X_train,X_test,Y_train,Y_test = train_test_split(X,Y,test_size=0.2,random_state=45)\n"
   ]
  },
  {
   "cell_type": "markdown",
   "id": "8e6cab10",
   "metadata": {},
   "source": [
    "LOGISTIC REGRESSION"
   ]
  },
  {
   "cell_type": "code",
   "execution_count": 24,
   "id": "8604588c",
   "metadata": {},
   "outputs": [
    {
     "data": {
      "text/plain": [
       "array([0, 1, 0, ..., 1, 1, 0])"
      ]
     },
     "execution_count": 24,
     "metadata": {},
     "output_type": "execute_result"
    }
   ],
   "source": [
    "from sklearn.linear_model import LogisticRegression\n",
    "logit_reg = LogisticRegression()\n",
    "logit_reg.fit(X_train,Y_train)\n",
    "Y_pred = logit_reg.predict(X_test)\n",
    "Y_pred"
   ]
  },
  {
   "cell_type": "code",
   "execution_count": 25,
   "id": "221eb462",
   "metadata": {},
   "outputs": [
    {
     "name": "stdout",
     "output_type": "stream",
     "text": [
      "accuracy is: 0.9386399459581175\n",
      "precision score: 0.9167431701129515\n",
      "recall_score: 0.9147322063375263\n",
      "f1 score: 0.9157316695983164\n"
     ]
    }
   ],
   "source": [
    "from sklearn.metrics import accuracy_score,precision_score,f1_score,recall_score,confusion_matrix\n",
    "\n",
    "\n",
    "print(\"accuracy is:\",accuracy_score(Y_test,Y_pred))\n",
    "print(\"precision score:\",precision_score(Y_test,Y_pred,average='macro'))\n",
    "print(\"recall_score:\",recall_score(Y_test,Y_pred,average='macro'))\n",
    "print('f1 score:',f1_score(Y_test,Y_pred,average='macro'))"
   ]
  },
  {
   "cell_type": "code",
   "execution_count": 26,
   "id": "0fd95fef",
   "metadata": {},
   "outputs": [
    {
     "name": "stderr",
     "output_type": "stream",
     "text": [
      "C:\\Users\\HP\\anaconda3\\lib\\site-packages\\sklearn\\model_selection\\_validation.py:378: FitFailedWarning: \n",
      "108 fits failed out of a total of 240.\n",
      "The score on these train-test partitions for these parameters will be set to nan.\n",
      "If these failures are not expected, you can try to debug them by setting error_score='raise'.\n",
      "\n",
      "Below are more details about the failures:\n",
      "--------------------------------------------------------------------------------\n",
      "12 fits failed with the following error:\n",
      "Traceback (most recent call last):\n",
      "  File \"C:\\Users\\HP\\anaconda3\\lib\\site-packages\\sklearn\\model_selection\\_validation.py\", line 686, in _fit_and_score\n",
      "    estimator.fit(X_train, y_train, **fit_params)\n",
      "  File \"C:\\Users\\HP\\anaconda3\\lib\\site-packages\\sklearn\\linear_model\\_logistic.py\", line 1091, in fit\n",
      "    solver = _check_solver(self.solver, self.penalty, self.dual)\n",
      "  File \"C:\\Users\\HP\\anaconda3\\lib\\site-packages\\sklearn\\linear_model\\_logistic.py\", line 61, in _check_solver\n",
      "    raise ValueError(\n",
      "ValueError: Solver newton-cg supports only 'l2' or 'none' penalties, got l1 penalty.\n",
      "\n",
      "--------------------------------------------------------------------------------\n",
      "12 fits failed with the following error:\n",
      "Traceback (most recent call last):\n",
      "  File \"C:\\Users\\HP\\anaconda3\\lib\\site-packages\\sklearn\\model_selection\\_validation.py\", line 686, in _fit_and_score\n",
      "    estimator.fit(X_train, y_train, **fit_params)\n",
      "  File \"C:\\Users\\HP\\anaconda3\\lib\\site-packages\\sklearn\\linear_model\\_logistic.py\", line 1091, in fit\n",
      "    solver = _check_solver(self.solver, self.penalty, self.dual)\n",
      "  File \"C:\\Users\\HP\\anaconda3\\lib\\site-packages\\sklearn\\linear_model\\_logistic.py\", line 61, in _check_solver\n",
      "    raise ValueError(\n",
      "ValueError: Solver lbfgs supports only 'l2' or 'none' penalties, got l1 penalty.\n",
      "\n",
      "--------------------------------------------------------------------------------\n",
      "12 fits failed with the following error:\n",
      "Traceback (most recent call last):\n",
      "  File \"C:\\Users\\HP\\anaconda3\\lib\\site-packages\\sklearn\\model_selection\\_validation.py\", line 686, in _fit_and_score\n",
      "    estimator.fit(X_train, y_train, **fit_params)\n",
      "  File \"C:\\Users\\HP\\anaconda3\\lib\\site-packages\\sklearn\\linear_model\\_logistic.py\", line 1091, in fit\n",
      "    solver = _check_solver(self.solver, self.penalty, self.dual)\n",
      "  File \"C:\\Users\\HP\\anaconda3\\lib\\site-packages\\sklearn\\linear_model\\_logistic.py\", line 61, in _check_solver\n",
      "    raise ValueError(\n",
      "ValueError: Solver sag supports only 'l2' or 'none' penalties, got l1 penalty.\n",
      "\n",
      "--------------------------------------------------------------------------------\n",
      "12 fits failed with the following error:\n",
      "Traceback (most recent call last):\n",
      "  File \"C:\\Users\\HP\\anaconda3\\lib\\site-packages\\sklearn\\model_selection\\_validation.py\", line 686, in _fit_and_score\n",
      "    estimator.fit(X_train, y_train, **fit_params)\n",
      "  File \"C:\\Users\\HP\\anaconda3\\lib\\site-packages\\sklearn\\linear_model\\_logistic.py\", line 1091, in fit\n",
      "    solver = _check_solver(self.solver, self.penalty, self.dual)\n",
      "  File \"C:\\Users\\HP\\anaconda3\\lib\\site-packages\\sklearn\\linear_model\\_logistic.py\", line 61, in _check_solver\n",
      "    raise ValueError(\n",
      "ValueError: Solver newton-cg supports only 'l2' or 'none' penalties, got elasticnet penalty.\n",
      "\n",
      "--------------------------------------------------------------------------------\n",
      "12 fits failed with the following error:\n",
      "Traceback (most recent call last):\n",
      "  File \"C:\\Users\\HP\\anaconda3\\lib\\site-packages\\sklearn\\model_selection\\_validation.py\", line 686, in _fit_and_score\n",
      "    estimator.fit(X_train, y_train, **fit_params)\n",
      "  File \"C:\\Users\\HP\\anaconda3\\lib\\site-packages\\sklearn\\linear_model\\_logistic.py\", line 1091, in fit\n",
      "    solver = _check_solver(self.solver, self.penalty, self.dual)\n",
      "  File \"C:\\Users\\HP\\anaconda3\\lib\\site-packages\\sklearn\\linear_model\\_logistic.py\", line 61, in _check_solver\n",
      "    raise ValueError(\n",
      "ValueError: Solver lbfgs supports only 'l2' or 'none' penalties, got elasticnet penalty.\n",
      "\n",
      "--------------------------------------------------------------------------------\n",
      "12 fits failed with the following error:\n",
      "Traceback (most recent call last):\n",
      "  File \"C:\\Users\\HP\\anaconda3\\lib\\site-packages\\sklearn\\model_selection\\_validation.py\", line 686, in _fit_and_score\n",
      "    estimator.fit(X_train, y_train, **fit_params)\n",
      "  File \"C:\\Users\\HP\\anaconda3\\lib\\site-packages\\sklearn\\linear_model\\_logistic.py\", line 1091, in fit\n",
      "    solver = _check_solver(self.solver, self.penalty, self.dual)\n",
      "  File \"C:\\Users\\HP\\anaconda3\\lib\\site-packages\\sklearn\\linear_model\\_logistic.py\", line 71, in _check_solver\n",
      "    raise ValueError(\n",
      "ValueError: Only 'saga' solver supports elasticnet penalty, got solver=liblinear.\n",
      "\n",
      "--------------------------------------------------------------------------------\n",
      "12 fits failed with the following error:\n",
      "Traceback (most recent call last):\n",
      "  File \"C:\\Users\\HP\\anaconda3\\lib\\site-packages\\sklearn\\model_selection\\_validation.py\", line 686, in _fit_and_score\n",
      "    estimator.fit(X_train, y_train, **fit_params)\n",
      "  File \"C:\\Users\\HP\\anaconda3\\lib\\site-packages\\sklearn\\linear_model\\_logistic.py\", line 1091, in fit\n",
      "    solver = _check_solver(self.solver, self.penalty, self.dual)\n",
      "  File \"C:\\Users\\HP\\anaconda3\\lib\\site-packages\\sklearn\\linear_model\\_logistic.py\", line 61, in _check_solver\n",
      "    raise ValueError(\n",
      "ValueError: Solver sag supports only 'l2' or 'none' penalties, got elasticnet penalty.\n",
      "\n",
      "--------------------------------------------------------------------------------\n",
      "12 fits failed with the following error:\n",
      "Traceback (most recent call last):\n",
      "  File \"C:\\Users\\HP\\anaconda3\\lib\\site-packages\\sklearn\\model_selection\\_validation.py\", line 686, in _fit_and_score\n",
      "    estimator.fit(X_train, y_train, **fit_params)\n",
      "  File \"C:\\Users\\HP\\anaconda3\\lib\\site-packages\\sklearn\\linear_model\\_logistic.py\", line 1101, in fit\n",
      "    raise ValueError(\n",
      "ValueError: l1_ratio must be between 0 and 1; got (l1_ratio=None)\n",
      "\n",
      "--------------------------------------------------------------------------------\n",
      "12 fits failed with the following error:\n",
      "Traceback (most recent call last):\n",
      "  File \"C:\\Users\\HP\\anaconda3\\lib\\site-packages\\sklearn\\model_selection\\_validation.py\", line 686, in _fit_and_score\n",
      "    estimator.fit(X_train, y_train, **fit_params)\n",
      "  File \"C:\\Users\\HP\\anaconda3\\lib\\site-packages\\sklearn\\linear_model\\_logistic.py\", line 1091, in fit\n",
      "    solver = _check_solver(self.solver, self.penalty, self.dual)\n",
      "  File \"C:\\Users\\HP\\anaconda3\\lib\\site-packages\\sklearn\\linear_model\\_logistic.py\", line 78, in _check_solver\n",
      "    raise ValueError(\"penalty='none' is not supported for the liblinear solver\")\n",
      "ValueError: penalty='none' is not supported for the liblinear solver\n",
      "\n",
      "  warnings.warn(some_fits_failed_message, FitFailedWarning)\n",
      "C:\\Users\\HP\\anaconda3\\lib\\site-packages\\sklearn\\model_selection\\_search.py:953: UserWarning: One or more of the test scores are non-finite: [       nan        nan 0.93675055        nan 0.93683499 0.9367224\n",
      " 0.9367224  0.9367787  0.93686314 0.9366661         nan        nan\n",
      "        nan        nan        nan 0.9367224  0.93675055        nan\n",
      " 0.93689129 0.93714463        nan        nan 0.93680685        nan\n",
      " 0.93711648 0.93689129 0.93689129 0.93686314 0.93683499 0.93708833\n",
      "        nan        nan        nan        nan        nan 0.9367224\n",
      " 0.93675055        nan 0.93689129 0.93714463        nan        nan\n",
      " 0.93675055        nan 0.93711648 0.9367224  0.93675055 0.93675055\n",
      " 0.93689129 0.93714463        nan        nan        nan        nan\n",
      "        nan 0.9367224  0.93675055        nan 0.93689129 0.93711648\n",
      "        nan        nan 0.93675055        nan 0.93711648 0.9367224\n",
      " 0.93675055 0.9367224  0.93689129 0.93714463        nan        nan\n",
      "        nan        nan        nan 0.9367224  0.93675055        nan\n",
      " 0.93689129 0.93711648]\n",
      "  warnings.warn(\n",
      "C:\\Users\\HP\\anaconda3\\lib\\site-packages\\sklearn\\linear_model\\_sag.py:350: ConvergenceWarning: The max_iter was reached which means the coef_ did not converge\n",
      "  warnings.warn(\n"
     ]
    }
   ],
   "source": [
    "# Applying Grid Search to find the best model and the best parameters\n",
    "from sklearn.model_selection import GridSearchCV\n",
    "parameters = [{'penalty': ['l1', 'l2', 'elasticnet', 'none'],\n",
    "              'C': [1, 10, 100, 1000],'solver':['newton-cg', 'lbfgs', 'liblinear', 'sag', 'saga']}]\n",
    "grid_search = GridSearchCV(estimator = logit_reg,\n",
    "                           param_grid = parameters,\n",
    "                           scoring = 'accuracy',\n",
    "                           cv = 3,\n",
    "                           n_jobs = -1)\n",
    "grid_search = grid_search.fit(X_train, Y_train)"
   ]
  },
  {
   "cell_type": "code",
   "execution_count": 27,
   "id": "df0cb05f",
   "metadata": {},
   "outputs": [],
   "source": [
    "accuracy = grid_search.best_score_"
   ]
  },
  {
   "cell_type": "code",
   "execution_count": 28,
   "id": "7b2161b4",
   "metadata": {},
   "outputs": [
    {
     "data": {
      "text/plain": [
       "0.9371446264707538"
      ]
     },
     "execution_count": 28,
     "metadata": {},
     "output_type": "execute_result"
    }
   ],
   "source": [
    "accuracy"
   ]
  },
  {
   "cell_type": "code",
   "execution_count": null,
   "id": "6c8ccddc",
   "metadata": {},
   "outputs": [],
   "source": []
  },
  {
   "cell_type": "code",
   "execution_count": null,
   "id": "7a1d3fd3",
   "metadata": {},
   "outputs": [],
   "source": []
  },
  {
   "cell_type": "code",
   "execution_count": 29,
   "id": "caae2d54",
   "metadata": {},
   "outputs": [],
   "source": [
    "# SVM\n",
    "\n",
    "from sklearn.svm import SVC\n",
    "svm_model = SVC(kernel='linear')\n",
    "svm_model.fit(X_train,Y_train)\n",
    "Y_pred = svm_model.predict(X_test)"
   ]
  },
  {
   "cell_type": "code",
   "execution_count": 30,
   "id": "d67d2498",
   "metadata": {},
   "outputs": [
    {
     "name": "stdout",
     "output_type": "stream",
     "text": [
      "accuracy is: 0.9413420400810628\n"
     ]
    },
    {
     "data": {
      "text/plain": [
       "array([[1848,  285],\n",
       "       [ 236, 6513]], dtype=int64)"
      ]
     },
     "execution_count": 30,
     "metadata": {},
     "output_type": "execute_result"
    }
   ],
   "source": [
    "print(\"accuracy is:\",accuracy_score(Y_test,Y_pred))\n",
    "confusion_matrix(Y_test,Y_pred)"
   ]
  },
  {
   "cell_type": "code",
   "execution_count": null,
   "id": "d5ac8a70",
   "metadata": {},
   "outputs": [],
   "source": []
  },
  {
   "cell_type": "code",
   "execution_count": null,
   "id": "78e009dc",
   "metadata": {},
   "outputs": [],
   "source": []
  },
  {
   "cell_type": "code",
   "execution_count": null,
   "id": "4a1a8f0f",
   "metadata": {},
   "outputs": [],
   "source": []
  },
  {
   "cell_type": "markdown",
   "id": "f61134aa",
   "metadata": {},
   "source": [
    "DESICION TREE"
   ]
  },
  {
   "cell_type": "code",
   "execution_count": 18,
   "id": "de7a1ed7",
   "metadata": {},
   "outputs": [],
   "source": [
    "from sklearn.tree import DecisionTreeClassifier\n",
    "\n",
    "dt_model = DecisionTreeClassifier()\n",
    "dt_model.fit(X_train,Y_train)\n",
    "y_pred = dt_model.predict(X_test)"
   ]
  },
  {
   "cell_type": "code",
   "execution_count": 20,
   "id": "eb2d3a7d",
   "metadata": {},
   "outputs": [
    {
     "name": "stdout",
     "output_type": "stream",
     "text": [
      "accuracy is: 0.9968475568565638\n",
      "precision score: 0.9955237283011376\n",
      "recall_score: 0.9958413731068283\n",
      "f1 score: 0.9956824306719503\n"
     ]
    }
   ],
   "source": [
    "\n",
    "from sklearn.metrics import accuracy_score,precision_score,f1_score,recall_score,confusion_matrix\n",
    "print(\"accuracy is:\",accuracy_score(Y_test,y_pred))\n",
    "print(\"precision score:\",precision_score(Y_test,y_pred,average='macro'))\n",
    "print(\"recall_score:\",recall_score(Y_test,y_pred,average='macro'))\n",
    "print('f1 score:',f1_score(Y_test,y_pred,average='macro'))"
   ]
  },
  {
   "cell_type": "code",
   "execution_count": 30,
   "id": "4667541a",
   "metadata": {},
   "outputs": [
    {
     "data": {
      "text/plain": [
       "[Text(0.6088814684139785, 0.96875, 'X[13] <= 49.994\\ngini = 0.357\\nsamples = 35526\\nvalue = [8261, 27265]'),\n",
       " Text(0.2916876680107527, 0.90625, 'X[24] <= 49.098\\ngini = 0.189\\nsamples = 30486\\nvalue = [3228, 27258]'),\n",
       " Text(0.05510752688172043, 0.84375, 'X[23] <= 2.5\\ngini = 0.022\\nsamples = 1612\\nvalue = [1594, 18]'),\n",
       " Text(0.033602150537634407, 0.78125, 'X[12] <= 4666.382\\ngini = 0.472\\nsamples = 21\\nvalue = [8, 13]'),\n",
       " Text(0.0228494623655914, 0.71875, 'gini = 0.0\\nsamples = 13\\nvalue = [0, 13]'),\n",
       " Text(0.04435483870967742, 0.71875, 'gini = 0.0\\nsamples = 8\\nvalue = [8, 0]'),\n",
       " Text(0.07661290322580645, 0.78125, 'X[13] <= 11.534\\ngini = 0.006\\nsamples = 1591\\nvalue = [1586, 5]'),\n",
       " Text(0.06586021505376344, 0.71875, 'gini = 0.0\\nsamples = 2\\nvalue = [0, 2]'),\n",
       " Text(0.08736559139784947, 0.71875, 'X[2] <= 2019.5\\ngini = 0.004\\nsamples = 1589\\nvalue = [1586, 3]'),\n",
       " Text(0.06586021505376344, 0.65625, 'X[13] <= 33.388\\ngini = 0.001\\nsamples = 1566\\nvalue = [1565, 1]'),\n",
       " Text(0.05510752688172043, 0.59375, 'X[13] <= 33.275\\ngini = 0.014\\nsamples = 142\\nvalue = [141, 1]'),\n",
       " Text(0.04435483870967742, 0.53125, 'gini = 0.0\\nsamples = 141\\nvalue = [141, 0]'),\n",
       " Text(0.06586021505376344, 0.53125, 'gini = 0.0\\nsamples = 1\\nvalue = [0, 1]'),\n",
       " Text(0.07661290322580645, 0.59375, 'gini = 0.0\\nsamples = 1424\\nvalue = [1424, 0]'),\n",
       " Text(0.10887096774193548, 0.65625, 'X[13] <= 33.307\\ngini = 0.159\\nsamples = 23\\nvalue = [21, 2]'),\n",
       " Text(0.09811827956989247, 0.59375, 'gini = 0.0\\nsamples = 2\\nvalue = [0, 2]'),\n",
       " Text(0.1196236559139785, 0.59375, 'gini = 0.0\\nsamples = 21\\nvalue = [21, 0]'),\n",
       " Text(0.528267809139785, 0.84375, 'X[24] <= 49.598\\ngini = 0.107\\nsamples = 28874\\nvalue = [1634, 27240]'),\n",
       " Text(0.3401377688172043, 0.78125, 'X[12] <= 15148.5\\ngini = 0.004\\nsamples = 27271\\nvalue = [58, 27213]'),\n",
       " Text(0.2474798387096774, 0.71875, 'X[10] <= 1585.5\\ngini = 0.001\\nsamples = 25910\\nvalue = [15, 25895]'),\n",
       " Text(0.20463709677419356, 0.65625, 'X[12] <= 13438.5\\ngini = 0.001\\nsamples = 25892\\nvalue = [14, 25878]'),\n",
       " Text(0.15120967741935484, 0.59375, 'X[15] <= 0.5\\ngini = 0.001\\nsamples = 25189\\nvalue = [8, 25181]'),\n",
       " Text(0.08736559139784947, 0.53125, 'X[13] <= 37.922\\ngini = 0.001\\nsamples = 25157\\nvalue = [7, 25150]'),\n",
       " Text(0.03225806451612903, 0.46875, 'X[2] <= 1878.5\\ngini = 0.0\\nsamples = 22366\\nvalue = [1, 22365]'),\n",
       " Text(0.021505376344086023, 0.40625, 'X[12] <= 3197.5\\ngini = 0.008\\nsamples = 238\\nvalue = [1, 237]'),\n",
       " Text(0.010752688172043012, 0.34375, 'gini = 0.0\\nsamples = 235\\nvalue = [0, 235]'),\n",
       " Text(0.03225806451612903, 0.34375, 'X[10] <= 751.0\\ngini = 0.444\\nsamples = 3\\nvalue = [1, 2]'),\n",
       " Text(0.021505376344086023, 0.28125, 'gini = 0.0\\nsamples = 1\\nvalue = [1, 0]'),\n",
       " Text(0.043010752688172046, 0.28125, 'gini = 0.0\\nsamples = 2\\nvalue = [0, 2]'),\n",
       " Text(0.043010752688172046, 0.40625, 'gini = 0.0\\nsamples = 22128\\nvalue = [0, 22128]'),\n",
       " Text(0.1424731182795699, 0.46875, 'X[1] <= 43.5\\ngini = 0.004\\nsamples = 2791\\nvalue = [6, 2785]'),\n",
       " Text(0.11290322580645161, 0.40625, 'X[2] <= 2015.0\\ngini = 0.002\\nsamples = 2785\\nvalue = [3, 2782]'),\n",
       " Text(0.08602150537634409, 0.34375, 'X[13] <= 37.979\\ngini = 0.001\\nsamples = 2779\\nvalue = [2, 2777]'),\n",
       " Text(0.06451612903225806, 0.28125, 'X[13] <= 37.976\\ngini = 0.165\\nsamples = 11\\nvalue = [1, 10]'),\n",
       " Text(0.053763440860215055, 0.21875, 'gini = 0.0\\nsamples = 10\\nvalue = [0, 10]'),\n",
       " Text(0.07526881720430108, 0.21875, 'gini = 0.0\\nsamples = 1\\nvalue = [1, 0]'),\n",
       " Text(0.10752688172043011, 0.28125, 'X[12] <= 600.5\\ngini = 0.001\\nsamples = 2768\\nvalue = [1, 2767]'),\n",
       " Text(0.0967741935483871, 0.21875, 'X[12] <= 599.5\\ngini = 0.03\\nsamples = 65\\nvalue = [1, 64]'),\n",
       " Text(0.08602150537634409, 0.15625, 'gini = 0.0\\nsamples = 63\\nvalue = [0, 63]'),\n",
       " Text(0.10752688172043011, 0.15625, 'X[10] <= 1204.0\\ngini = 0.5\\nsamples = 2\\nvalue = [1, 1]'),\n",
       " Text(0.0967741935483871, 0.09375, 'gini = 0.0\\nsamples = 1\\nvalue = [1, 0]'),\n",
       " Text(0.11827956989247312, 0.09375, 'gini = 0.0\\nsamples = 1\\nvalue = [0, 1]'),\n",
       " Text(0.11827956989247312, 0.21875, 'gini = 0.0\\nsamples = 2703\\nvalue = [0, 2703]'),\n",
       " Text(0.13978494623655913, 0.34375, 'X[13] <= 45.793\\ngini = 0.278\\nsamples = 6\\nvalue = [1, 5]'),\n",
       " Text(0.12903225806451613, 0.28125, 'gini = 0.0\\nsamples = 5\\nvalue = [0, 5]'),\n",
       " Text(0.15053763440860216, 0.28125, 'gini = 0.0\\nsamples = 1\\nvalue = [1, 0]'),\n",
       " Text(0.17204301075268819, 0.40625, 'X[12] <= 11531.0\\ngini = 0.5\\nsamples = 6\\nvalue = [3, 3]'),\n",
       " Text(0.16129032258064516, 0.34375, 'gini = 0.0\\nsamples = 3\\nvalue = [3, 0]'),\n",
       " Text(0.1827956989247312, 0.34375, 'gini = 0.0\\nsamples = 3\\nvalue = [0, 3]'),\n",
       " Text(0.21505376344086022, 0.53125, 'X[8] <= 0.5\\ngini = 0.061\\nsamples = 32\\nvalue = [1, 31]'),\n",
       " Text(0.20430107526881722, 0.46875, 'X[2] <= 1916.0\\ngini = 0.444\\nsamples = 3\\nvalue = [1, 2]'),\n",
       " Text(0.1935483870967742, 0.40625, 'gini = 0.0\\nsamples = 1\\nvalue = [1, 0]'),\n",
       " Text(0.21505376344086022, 0.40625, 'gini = 0.0\\nsamples = 2\\nvalue = [0, 2]'),\n",
       " Text(0.22580645161290322, 0.46875, 'gini = 0.0\\nsamples = 29\\nvalue = [0, 29]'),\n",
       " Text(0.25806451612903225, 0.59375, 'X[12] <= 13445.0\\ngini = 0.017\\nsamples = 703\\nvalue = [6, 697]'),\n",
       " Text(0.24731182795698925, 0.53125, 'gini = 0.0\\nsamples = 2\\nvalue = [2, 0]'),\n",
       " Text(0.26881720430107525, 0.53125, 'X[25] <= 11.5\\ngini = 0.011\\nsamples = 701\\nvalue = [4, 697]'),\n",
       " Text(0.24731182795698925, 0.46875, 'X[0] <= 32810.5\\ngini = 0.009\\nsamples = 699\\nvalue = [3, 696]'),\n",
       " Text(0.23655913978494625, 0.40625, 'gini = 0.0\\nsamples = 589\\nvalue = [0, 589]'),\n",
       " Text(0.25806451612903225, 0.40625, 'X[13] <= 39.452\\ngini = 0.053\\nsamples = 110\\nvalue = [3, 107]'),\n",
       " Text(0.24731182795698925, 0.34375, 'X[9] <= 8.0\\ngini = 0.018\\nsamples = 108\\nvalue = [1, 107]'),\n",
       " Text(0.23655913978494625, 0.28125, 'gini = 0.0\\nsamples = 100\\nvalue = [0, 100]'),\n",
       " Text(0.25806451612903225, 0.28125, 'X[13] <= 28.427\\ngini = 0.219\\nsamples = 8\\nvalue = [1, 7]'),\n",
       " Text(0.24731182795698925, 0.21875, 'gini = 0.0\\nsamples = 7\\nvalue = [0, 7]'),\n",
       " Text(0.26881720430107525, 0.21875, 'gini = 0.0\\nsamples = 1\\nvalue = [1, 0]'),\n",
       " Text(0.26881720430107525, 0.34375, 'gini = 0.0\\nsamples = 2\\nvalue = [2, 0]'),\n",
       " Text(0.2903225806451613, 0.46875, 'X[9] <= 5.5\\ngini = 0.5\\nsamples = 2\\nvalue = [1, 1]'),\n",
       " Text(0.27956989247311825, 0.40625, 'gini = 0.0\\nsamples = 1\\nvalue = [0, 1]'),\n",
       " Text(0.3010752688172043, 0.40625, 'gini = 0.0\\nsamples = 1\\nvalue = [1, 0]'),\n",
       " Text(0.2903225806451613, 0.65625, 'X[12] <= 5783.5\\ngini = 0.105\\nsamples = 18\\nvalue = [1, 17]'),\n",
       " Text(0.27956989247311825, 0.59375, 'gini = 0.0\\nsamples = 17\\nvalue = [0, 17]'),\n",
       " Text(0.3010752688172043, 0.59375, 'gini = 0.0\\nsamples = 1\\nvalue = [1, 0]'),\n",
       " Text(0.4327956989247312, 0.71875, 'X[1] <= 43.5\\ngini = 0.061\\nsamples = 1361\\nvalue = [43, 1318]'),\n",
       " Text(0.3548387096774194, 0.65625, 'X[15] <= 0.5\\ngini = 0.016\\nsamples = 1233\\nvalue = [10, 1223]'),\n",
       " Text(0.34408602150537637, 0.59375, 'X[12] <= 15152.5\\ngini = 0.013\\nsamples = 1231\\nvalue = [8, 1223]'),\n",
       " Text(0.3333333333333333, 0.53125, 'gini = 0.0\\nsamples = 1\\nvalue = [1, 0]'),\n",
       " Text(0.3548387096774194, 0.53125, 'X[19] <= 6.5\\ngini = 0.011\\nsamples = 1230\\nvalue = [7, 1223]'),\n",
       " Text(0.3333333333333333, 0.46875, 'X[0] <= 33059.5\\ngini = 0.008\\nsamples = 1217\\nvalue = [5, 1212]'),\n",
       " Text(0.3225806451612903, 0.40625, 'gini = 0.0\\nsamples = 1085\\nvalue = [0, 1085]'),\n",
       " Text(0.34408602150537637, 0.40625, 'X[0] <= 33084.0\\ngini = 0.073\\nsamples = 132\\nvalue = [5, 127]'),\n",
       " Text(0.3333333333333333, 0.34375, 'gini = 0.0\\nsamples = 2\\nvalue = [2, 0]'),\n",
       " Text(0.3548387096774194, 0.34375, 'X[13] <= 45.374\\ngini = 0.045\\nsamples = 130\\nvalue = [3, 127]'),\n",
       " Text(0.34408602150537637, 0.28125, 'X[13] <= 40.872\\ngini = 0.031\\nsamples = 129\\nvalue = [2, 127]'),\n",
       " Text(0.3225806451612903, 0.21875, 'X[17] <= 20.0\\ngini = 0.016\\nsamples = 124\\nvalue = [1, 123]'),\n",
       " Text(0.3118279569892473, 0.15625, 'X[7] <= 1039.0\\ngini = 0.117\\nsamples = 16\\nvalue = [1, 15]'),\n",
       " Text(0.3010752688172043, 0.09375, 'gini = 0.0\\nsamples = 13\\nvalue = [0, 13]'),\n",
       " Text(0.3225806451612903, 0.09375, 'X[10] <= 674.0\\ngini = 0.444\\nsamples = 3\\nvalue = [1, 2]'),\n",
       " Text(0.3118279569892473, 0.03125, 'gini = 0.0\\nsamples = 1\\nvalue = [1, 0]'),\n",
       " Text(0.3333333333333333, 0.03125, 'gini = 0.0\\nsamples = 2\\nvalue = [0, 2]'),\n",
       " Text(0.3333333333333333, 0.15625, 'gini = 0.0\\nsamples = 108\\nvalue = [0, 108]'),\n",
       " Text(0.3655913978494624, 0.21875, 'X[17] <= 78.5\\ngini = 0.32\\nsamples = 5\\nvalue = [1, 4]'),\n",
       " Text(0.3548387096774194, 0.15625, 'gini = 0.0\\nsamples = 4\\nvalue = [0, 4]'),\n",
       " Text(0.3763440860215054, 0.15625, 'gini = 0.0\\nsamples = 1\\nvalue = [1, 0]'),\n",
       " Text(0.3655913978494624, 0.28125, 'gini = 0.0\\nsamples = 1\\nvalue = [1, 0]'),\n",
       " Text(0.3763440860215054, 0.46875, 'X[26] <= 7.0\\ngini = 0.26\\nsamples = 13\\nvalue = [2, 11]'),\n",
       " Text(0.3655913978494624, 0.40625, 'gini = 0.0\\nsamples = 1\\nvalue = [1, 0]'),\n",
       " Text(0.3870967741935484, 0.40625, 'X[7] <= 5787.5\\ngini = 0.153\\nsamples = 12\\nvalue = [1, 11]'),\n",
       " Text(0.3763440860215054, 0.34375, 'gini = 0.0\\nsamples = 10\\nvalue = [0, 10]'),\n",
       " Text(0.3978494623655914, 0.34375, 'X[12] <= 15735.5\\ngini = 0.5\\nsamples = 2\\nvalue = [1, 1]'),\n",
       " Text(0.3870967741935484, 0.28125, 'gini = 0.0\\nsamples = 1\\nvalue = [0, 1]'),\n",
       " Text(0.40860215053763443, 0.28125, 'gini = 0.0\\nsamples = 1\\nvalue = [1, 0]'),\n",
       " Text(0.3655913978494624, 0.59375, 'gini = 0.0\\nsamples = 2\\nvalue = [2, 0]'),\n",
       " Text(0.510752688172043, 0.65625, 'X[13] <= 36.658\\ngini = 0.383\\nsamples = 128\\nvalue = [33, 95]'),\n",
       " Text(0.43548387096774194, 0.59375, 'X[13] <= 34.078\\ngini = 0.142\\nsamples = 91\\nvalue = [7, 84]'),\n",
       " Text(0.40860215053763443, 0.53125, 'X[7] <= 2950.0\\ngini = 0.03\\nsamples = 66\\nvalue = [1, 65]'),\n",
       " Text(0.3978494623655914, 0.46875, 'gini = 0.0\\nsamples = 1\\nvalue = [1, 0]'),\n",
       " Text(0.41935483870967744, 0.46875, 'gini = 0.0\\nsamples = 65\\nvalue = [0, 65]'),\n",
       " Text(0.46236559139784944, 0.53125, 'X[19] <= 3.0\\ngini = 0.365\\nsamples = 25\\nvalue = [6, 19]'),\n",
       " Text(0.44086021505376344, 0.46875, 'X[0] <= 33440.5\\ngini = 0.117\\nsamples = 16\\nvalue = [1, 15]'),\n",
       " Text(0.43010752688172044, 0.40625, 'gini = 0.0\\nsamples = 1\\nvalue = [1, 0]'),\n",
       " Text(0.45161290322580644, 0.40625, 'gini = 0.0\\nsamples = 15\\nvalue = [0, 15]'),\n",
       " Text(0.4838709677419355, 0.46875, 'X[12] <= 18020.0\\ngini = 0.494\\nsamples = 9\\nvalue = [5, 4]'),\n",
       " Text(0.4731182795698925, 0.40625, 'gini = 0.0\\nsamples = 4\\nvalue = [4, 0]'),\n",
       " Text(0.4946236559139785, 0.40625, 'X[10] <= 330.5\\ngini = 0.32\\nsamples = 5\\nvalue = [1, 4]'),\n",
       " Text(0.4838709677419355, 0.34375, 'gini = 0.0\\nsamples = 1\\nvalue = [1, 0]'),\n",
       " Text(0.5053763440860215, 0.34375, 'gini = 0.0\\nsamples = 4\\nvalue = [0, 4]'),\n",
       " Text(0.5860215053763441, 0.59375, 'X[13] <= 40.456\\ngini = 0.418\\nsamples = 37\\nvalue = [26, 11]'),\n",
       " Text(0.5483870967741935, 0.53125, 'X[13] <= 38.066\\ngini = 0.5\\nsamples = 18\\nvalue = [9, 9]'),\n",
       " Text(0.5268817204301075, 0.46875, 'X[0] <= 33890.5\\ngini = 0.245\\nsamples = 7\\nvalue = [6, 1]'),\n",
       " Text(0.5161290322580645, 0.40625, 'gini = 0.0\\nsamples = 1\\nvalue = [0, 1]'),\n",
       " Text(0.5376344086021505, 0.40625, 'gini = 0.0\\nsamples = 6\\nvalue = [6, 0]'),\n",
       " Text(0.5698924731182796, 0.46875, 'X[4] <= 0.5\\ngini = 0.397\\nsamples = 11\\nvalue = [3, 8]'),\n",
       " Text(0.5591397849462365, 0.40625, 'gini = 0.0\\nsamples = 2\\nvalue = [2, 0]'),\n",
       " Text(0.5806451612903226, 0.40625, 'X[19] <= 2.5\\ngini = 0.198\\nsamples = 9\\nvalue = [1, 8]'),\n",
       " Text(0.5698924731182796, 0.34375, 'gini = 0.0\\nsamples = 7\\nvalue = [0, 7]'),\n",
       " Text(0.5913978494623656, 0.34375, 'X[10] <= 1064.0\\ngini = 0.5\\nsamples = 2\\nvalue = [1, 1]'),\n",
       " Text(0.5806451612903226, 0.28125, 'gini = 0.0\\nsamples = 1\\nvalue = [0, 1]'),\n",
       " Text(0.6021505376344086, 0.28125, 'gini = 0.0\\nsamples = 1\\nvalue = [1, 0]'),\n",
       " Text(0.6236559139784946, 0.53125, 'X[5] <= 1.5\\ngini = 0.188\\nsamples = 19\\nvalue = [17, 2]'),\n",
       " Text(0.6129032258064516, 0.46875, 'X[13] <= 43.178\\ngini = 0.408\\nsamples = 7\\nvalue = [5, 2]'),\n",
       " Text(0.6021505376344086, 0.40625, 'gini = 0.0\\nsamples = 2\\nvalue = [0, 2]'),\n",
       " Text(0.6236559139784946, 0.40625, 'gini = 0.0\\nsamples = 5\\nvalue = [5, 0]'),\n",
       " Text(0.6344086021505376, 0.46875, 'gini = 0.0\\nsamples = 12\\nvalue = [12, 0]'),\n",
       " Text(0.7163978494623656, 0.78125, 'X[23] <= 2.5\\ngini = 0.033\\nsamples = 1603\\nvalue = [1576, 27]'),\n",
       " Text(0.6559139784946236, 0.71875, 'X[13] <= 34.364\\ngini = 0.49\\nsamples = 21\\nvalue = [9, 12]'),\n",
       " Text(0.6451612903225806, 0.65625, 'X[18] <= 16.0\\ngini = 0.18\\nsamples = 10\\nvalue = [9, 1]'),\n",
       " Text(0.6344086021505376, 0.59375, 'gini = 0.0\\nsamples = 8\\nvalue = [8, 0]'),\n",
       " Text(0.6559139784946236, 0.59375, 'X[25] <= 7.0\\ngini = 0.5\\nsamples = 2\\nvalue = [1, 1]'),\n",
       " Text(0.6451612903225806, 0.53125, 'gini = 0.0\\nsamples = 1\\nvalue = [0, 1]'),\n",
       " Text(0.6666666666666666, 0.53125, 'gini = 0.0\\nsamples = 1\\nvalue = [1, 0]'),\n",
       " Text(0.6666666666666666, 0.65625, 'gini = 0.0\\nsamples = 11\\nvalue = [0, 11]'),\n",
       " Text(0.7768817204301075, 0.71875, 'X[2] <= 2019.5\\ngini = 0.019\\nsamples = 1582\\nvalue = [1567, 15]'),\n",
       " Text(0.7258064516129032, 0.65625, 'X[10] <= 7.0\\ngini = 0.005\\nsamples = 1528\\nvalue = [1524, 4]'),\n",
       " Text(0.6989247311827957, 0.59375, 'X[0] <= 30222.0\\ngini = 0.278\\nsamples = 6\\nvalue = [5, 1]'),\n",
       " Text(0.6881720430107527, 0.53125, 'gini = 0.0\\nsamples = 5\\nvalue = [5, 0]'),\n",
       " Text(0.7096774193548387, 0.53125, 'gini = 0.0\\nsamples = 1\\nvalue = [0, 1]'),\n",
       " Text(0.7526881720430108, 0.59375, 'X[13] <= 24.757\\ngini = 0.004\\nsamples = 1522\\nvalue = [1519, 3]'),\n",
       " Text(0.7311827956989247, 0.53125, 'X[23] <= 3.5\\ngini = 0.18\\nsamples = 10\\nvalue = [9, 1]'),\n",
       " Text(0.7204301075268817, 0.46875, 'gini = 0.0\\nsamples = 1\\nvalue = [0, 1]'),\n",
       " Text(0.7419354838709677, 0.46875, 'gini = 0.0\\nsamples = 9\\nvalue = [9, 0]'),\n",
       " Text(0.7741935483870968, 0.53125, 'X[13] <= 37.146\\ngini = 0.003\\nsamples = 1512\\nvalue = [1510, 2]'),\n",
       " Text(0.7634408602150538, 0.46875, 'X[13] <= 37.117\\ngini = 0.016\\nsamples = 256\\nvalue = [254, 2]'),\n",
       " Text(0.7526881720430108, 0.40625, 'X[11] <= 11.0\\ngini = 0.008\\nsamples = 255\\nvalue = [254, 1]'),\n",
       " Text(0.7419354838709677, 0.34375, 'gini = 0.0\\nsamples = 237\\nvalue = [237, 0]'),\n",
       " Text(0.7634408602150538, 0.34375, 'X[25] <= 5.5\\ngini = 0.105\\nsamples = 18\\nvalue = [17, 1]'),\n",
       " Text(0.7526881720430108, 0.28125, 'X[23] <= 4.0\\ngini = 0.444\\nsamples = 3\\nvalue = [2, 1]'),\n",
       " Text(0.7419354838709677, 0.21875, 'gini = 0.0\\nsamples = 1\\nvalue = [0, 1]'),\n",
       " Text(0.7634408602150538, 0.21875, 'gini = 0.0\\nsamples = 2\\nvalue = [2, 0]'),\n",
       " Text(0.7741935483870968, 0.28125, 'gini = 0.0\\nsamples = 15\\nvalue = [15, 0]'),\n",
       " Text(0.7741935483870968, 0.40625, 'gini = 0.0\\nsamples = 1\\nvalue = [0, 1]'),\n",
       " Text(0.7849462365591398, 0.46875, 'gini = 0.0\\nsamples = 1256\\nvalue = [1256, 0]'),\n",
       " Text(0.8279569892473119, 0.65625, 'X[13] <= 33.62\\ngini = 0.324\\nsamples = 54\\nvalue = [43, 11]'),\n",
       " Text(0.8172043010752689, 0.59375, 'gini = 0.0\\nsamples = 5\\nvalue = [0, 5]'),\n",
       " Text(0.8387096774193549, 0.59375, 'X[13] <= 39.095\\ngini = 0.215\\nsamples = 49\\nvalue = [43, 6]'),\n",
       " Text(0.8172043010752689, 0.53125, 'X[11] <= 7.0\\ngini = 0.43\\nsamples = 16\\nvalue = [11, 5]'),\n",
       " Text(0.8064516129032258, 0.46875, 'X[0] <= 31953.0\\ngini = 0.494\\nsamples = 9\\nvalue = [4, 5]'),\n",
       " Text(0.7956989247311828, 0.40625, 'gini = 0.0\\nsamples = 3\\nvalue = [3, 0]'),\n",
       " Text(0.8172043010752689, 0.40625, 'X[6] <= 0.5\\ngini = 0.278\\nsamples = 6\\nvalue = [1, 5]'),\n",
       " Text(0.8064516129032258, 0.34375, 'gini = 0.0\\nsamples = 1\\nvalue = [1, 0]'),\n",
       " Text(0.8279569892473119, 0.34375, 'gini = 0.0\\nsamples = 5\\nvalue = [0, 5]'),\n",
       " Text(0.8279569892473119, 0.46875, 'gini = 0.0\\nsamples = 7\\nvalue = [7, 0]'),\n",
       " Text(0.8602150537634409, 0.53125, 'X[10] <= 113.0\\ngini = 0.059\\nsamples = 33\\nvalue = [32, 1]'),\n",
       " Text(0.8494623655913979, 0.46875, 'X[12] <= 17599.5\\ngini = 0.5\\nsamples = 2\\nvalue = [1, 1]'),\n",
       " Text(0.8387096774193549, 0.40625, 'gini = 0.0\\nsamples = 1\\nvalue = [1, 0]'),\n",
       " Text(0.8602150537634409, 0.40625, 'gini = 0.0\\nsamples = 1\\nvalue = [0, 1]'),\n",
       " Text(0.8709677419354839, 0.46875, 'gini = 0.0\\nsamples = 31\\nvalue = [31, 0]'),\n",
       " Text(0.9260752688172043, 0.90625, 'X[17] <= 154.0\\ngini = 0.003\\nsamples = 5040\\nvalue = [5033, 7]'),\n",
       " Text(0.8897849462365591, 0.84375, 'X[13] <= 50.001\\ngini = 0.002\\nsamples = 5038\\nvalue = [5032, 6]'),\n",
       " Text(0.8494623655913979, 0.78125, 'X[18] <= 10.5\\ngini = 0.375\\nsamples = 8\\nvalue = [6, 2]'),\n",
       " Text(0.8387096774193549, 0.71875, 'gini = 0.0\\nsamples = 5\\nvalue = [5, 0]'),\n",
       " Text(0.8602150537634409, 0.71875, 'X[12] <= 892.0\\ngini = 0.444\\nsamples = 3\\nvalue = [1, 2]'),\n",
       " Text(0.8494623655913979, 0.65625, 'gini = 0.0\\nsamples = 1\\nvalue = [1, 0]'),\n",
       " Text(0.8709677419354839, 0.65625, 'gini = 0.0\\nsamples = 2\\nvalue = [0, 2]'),\n",
       " Text(0.9301075268817204, 0.78125, 'X[1] <= 33.5\\ngini = 0.002\\nsamples = 5030\\nvalue = [5026, 4]'),\n",
       " Text(0.9032258064516129, 0.71875, 'X[7] <= 1591.0\\ngini = 0.0\\nsamples = 4611\\nvalue = [4610, 1]'),\n",
       " Text(0.8924731182795699, 0.65625, 'X[13] <= 65.922\\ngini = 0.006\\nsamples = 351\\nvalue = [350, 1]'),\n",
       " Text(0.8817204301075269, 0.59375, 'gini = 0.0\\nsamples = 284\\nvalue = [284, 0]'),\n",
       " Text(0.9032258064516129, 0.59375, 'X[13] <= 66.297\\ngini = 0.029\\nsamples = 67\\nvalue = [66, 1]'),\n",
       " Text(0.8924731182795699, 0.53125, 'gini = 0.0\\nsamples = 1\\nvalue = [0, 1]'),\n",
       " Text(0.9139784946236559, 0.53125, 'gini = 0.0\\nsamples = 66\\nvalue = [66, 0]'),\n",
       " Text(0.9139784946236559, 0.65625, 'gini = 0.0\\nsamples = 4260\\nvalue = [4260, 0]'),\n",
       " Text(0.956989247311828, 0.71875, 'X[10] <= 18.5\\ngini = 0.014\\nsamples = 419\\nvalue = [416, 3]'),\n",
       " Text(0.9354838709677419, 0.65625, 'X[12] <= 12879.0\\ngini = 0.375\\nsamples = 4\\nvalue = [3, 1]'),\n",
       " Text(0.9247311827956989, 0.59375, 'gini = 0.0\\nsamples = 1\\nvalue = [0, 1]'),\n",
       " Text(0.946236559139785, 0.59375, 'gini = 0.0\\nsamples = 3\\nvalue = [3, 0]'),\n",
       " Text(0.978494623655914, 0.65625, 'X[2] <= 1989.0\\ngini = 0.01\\nsamples = 415\\nvalue = [413, 2]'),\n",
       " Text(0.967741935483871, 0.59375, 'X[13] <= 69.708\\ngini = 0.085\\nsamples = 45\\nvalue = [43, 2]'),\n",
       " Text(0.956989247311828, 0.53125, 'X[13] <= 62.134\\ngini = 0.044\\nsamples = 44\\nvalue = [43, 1]'),\n",
       " Text(0.946236559139785, 0.46875, 'gini = 0.0\\nsamples = 39\\nvalue = [39, 0]'),\n",
       " Text(0.967741935483871, 0.46875, 'X[4] <= 0.5\\ngini = 0.32\\nsamples = 5\\nvalue = [4, 1]'),\n",
       " Text(0.956989247311828, 0.40625, 'gini = 0.0\\nsamples = 4\\nvalue = [4, 0]'),\n",
       " Text(0.978494623655914, 0.40625, 'gini = 0.0\\nsamples = 1\\nvalue = [0, 1]'),\n",
       " Text(0.978494623655914, 0.53125, 'gini = 0.0\\nsamples = 1\\nvalue = [0, 1]'),\n",
       " Text(0.989247311827957, 0.59375, 'gini = 0.0\\nsamples = 370\\nvalue = [370, 0]'),\n",
       " Text(0.9623655913978495, 0.84375, 'X[2] <= 1903.5\\ngini = 0.5\\nsamples = 2\\nvalue = [1, 1]'),\n",
       " Text(0.9516129032258065, 0.78125, 'gini = 0.0\\nsamples = 1\\nvalue = [0, 1]'),\n",
       " Text(0.9731182795698925, 0.78125, 'gini = 0.0\\nsamples = 1\\nvalue = [1, 0]')]"
      ]
     },
     "execution_count": 30,
     "metadata": {},
     "output_type": "execute_result"
    },
    {
     "data": {
      "image/png": "[encoded data removed]",
      "text/plain": [
       "<Figure size 1080x720 with 1 Axes>"
      ]
     },
     "metadata": {
      "needs_background": "light"
     },
     "output_type": "display_data"
    }
   ],
   "source": [
    "from sklearn import tree\n",
    "plt.figure(figsize=(15,10))\n",
    "tree.plot_tree(dt_model,filled=True)"
   ]
  },
  {
   "cell_type": "code",
   "execution_count": 22,
   "id": "72bf77b9",
   "metadata": {},
   "outputs": [],
   "source": [
    "path = dt_model.cost_complexity_pruning_path(X_train, Y_train)\n",
    "ccp_alphas, impurities = path.ccp_alphas, path.impurities"
   ]
  },
  {
   "cell_type": "code",
   "execution_count": 23,
   "id": "9e758455",
   "metadata": {},
   "outputs": [
    {
     "data": {
      "text/plain": [
       "array([0.00000000e+00, 1.86142634e-05, 1.86920083e-05, 1.87588194e-05,\n",
       "       1.87615292e-05, 1.87647599e-05, 2.41033606e-05, 2.50207985e-05,\n",
       "       2.53335585e-05, 2.58026985e-05, 2.72687609e-05, 2.72954166e-05,\n",
       "       2.75025830e-05, 2.78877650e-05, 2.80869444e-05, 2.81080008e-05,\n",
       "       2.81304236e-05, 2.81483984e-05, 2.81483984e-05, 3.50934343e-05,\n",
       "       4.26727681e-05, 4.36661051e-05, 4.42582587e-05, 4.50374374e-05,\n",
       "       4.64288502e-05, 4.69139973e-05, 4.82543972e-05, 5.03708181e-05,\n",
       "       5.27782469e-05, 5.54438149e-05, 5.56126300e-05, 5.61553406e-05,\n",
       "       6.49716793e-05, 7.01681393e-05, 7.27877776e-05, 8.16668076e-05,\n",
       "       1.10954639e-04, 1.12027842e-04, 1.57713788e-04, 2.38859266e-04,\n",
       "       2.78803184e-04, 3.52327201e-04, 3.68439767e-04, 4.42624550e-04,\n",
       "       7.83646740e-02, 1.94046204e-01])"
      ]
     },
     "execution_count": 23,
     "metadata": {},
     "output_type": "execute_result"
    }
   ],
   "source": [
    "ccp_alphas"
   ]
  },
  {
   "cell_type": "code",
   "execution_count": 25,
   "id": "7aa827bd",
   "metadata": {},
   "outputs": [
    {
     "name": "stdout",
     "output_type": "stream",
     "text": [
      "Number of nodes in the last tree is: 1 with ccp_alpha: 0.19404620437741638\n"
     ]
    }
   ],
   "source": [
    "clfs = []\n",
    "for ccp_alpha in ccp_alphas:\n",
    "    clf = DecisionTreeClassifier(random_state=0, ccp_alpha=ccp_alpha)\n",
    "    clf.fit(X_train, Y_train)\n",
    "    clfs.append(clf)\n",
    "print(\"Number of nodes in the last tree is: {} with ccp_alpha: {}\".format(\n",
    "      clfs[-1].tree_.node_count, ccp_alphas[-1]))"
   ]
  },
  {
   "cell_type": "code",
   "execution_count": 26,
   "id": "65bcd7ce",
   "metadata": {
    "scrolled": true
   },
   "outputs": [
    {
     "data": {
      "image/png": "[encoded data removed]",
      "text/plain": [
       "<Figure size 432x288 with 1 Axes>"
      ]
     },
     "metadata": {
      "needs_background": "light"
     },
     "output_type": "display_data"
    }
   ],
   "source": [
    "train_scores = [clf.score(X_train, Y_train) for clf in clfs]\n",
    "test_scores = [clf.score(X_test, Y_test) for clf in clfs]\n",
    "\n",
    "fig, ax = plt.subplots()\n",
    "ax.set_xlabel(\"alpha\")\n",
    "ax.set_ylabel(\"accuracy\")\n",
    "ax.set_title(\"Accuracy vs alpha for training and testing sets\")\n",
    "ax.plot(ccp_alphas, train_scores, marker='o', label=\"train\",\n",
    "        drawstyle=\"steps-post\")\n",
    "ax.plot(ccp_alphas, test_scores, marker='o', label=\"test\",\n",
    "        drawstyle=\"steps-post\")\n",
    "ax.legend()\n",
    "plt.show()"
   ]
  },
  {
   "cell_type": "code",
   "execution_count": 28,
   "id": "e1665e50",
   "metadata": {},
   "outputs": [
    {
     "data": {
      "text/plain": [
       "0.9961720333258275"
      ]
     },
     "execution_count": 28,
     "metadata": {},
     "output_type": "execute_result"
    }
   ],
   "source": [
    "clf = DecisionTreeClassifier(random_state=0, ccp_alpha=0.001)\n",
    "clf.fit(X_train,Y_train)\n",
    "pred=clf.predict(X_test)\n",
    "from sklearn.metrics import accuracy_score\n",
    "accuracy_score(Y_test,pred)"
   ]
  },
  {
   "cell_type": "code",
   "execution_count": 29,
   "id": "f6a3fd0e",
   "metadata": {},
   "outputs": [
    {
     "data": {
      "text/plain": [
       "[Text(0.6, 0.875, 'X[13] <= 49.994\\ngini = 0.357\\nsamples = 35526\\nvalue = [8261, 27265]'),\n",
       " Text(0.4, 0.625, 'X[24] <= 49.098\\ngini = 0.189\\nsamples = 30486\\nvalue = [3228, 27258]'),\n",
       " Text(0.2, 0.375, 'gini = 0.022\\nsamples = 1612\\nvalue = [1594, 18]'),\n",
       " Text(0.6, 0.375, 'X[24] <= 49.598\\ngini = 0.107\\nsamples = 28874\\nvalue = [1634, 27240]'),\n",
       " Text(0.4, 0.125, 'gini = 0.004\\nsamples = 27271\\nvalue = [58, 27213]'),\n",
       " Text(0.8, 0.125, 'gini = 0.033\\nsamples = 1603\\nvalue = [1576, 27]'),\n",
       " Text(0.8, 0.625, 'gini = 0.003\\nsamples = 5040\\nvalue = [5033, 7]')]"
      ]
     },
     "execution_count": 29,
     "metadata": {},
     "output_type": "execute_result"
    },
    {
     "data": {
      "image/png": "[encoded data removed]",
      "text/plain": [
       "<Figure size 1080x720 with 1 Axes>"
      ]
     },
     "metadata": {
      "needs_background": "light"
     },
     "output_type": "display_data"
    }
   ],
   "source": [
    "from sklearn import tree\n",
    "plt.figure(figsize=(15,10))\n",
    "tree.plot_tree(clf,filled=True)"
   ]
  },
  {
   "cell_type": "markdown",
   "id": "d963b4ee",
   "metadata": {},
   "source": [
    "RANDOM FOREST"
   ]
  },
  {
   "cell_type": "code",
   "execution_count": 34,
   "id": "e03add70",
   "metadata": {},
   "outputs": [
    {
     "data": {
      "text/plain": [
       "array([0, 1, 0, ..., 1, 1, 0])"
      ]
     },
     "execution_count": 34,
     "metadata": {},
     "output_type": "execute_result"
    }
   ],
   "source": [
    "from sklearn.ensemble import RandomForestClassifier\n",
    "\n",
    "random = RandomForestClassifier(n_estimators=100)\n",
    "random.fit(X_train,Y_train)\n",
    "y_pred=random.predict(X_test)\n",
    "y_pred"
   ]
  },
  {
   "cell_type": "code",
   "execution_count": 36,
   "id": "a81e4a1f",
   "metadata": {},
   "outputs": [
    {
     "name": "stdout",
     "output_type": "stream",
     "text": [
      "accuracy is: 0.9976356676424228\n",
      "precision score: 0.9962098381744234\n",
      "recall_score: 0.9973219279173654\n",
      "f1 score: 0.9967644133975788\n"
     ]
    }
   ],
   "source": [
    "from sklearn.metrics import accuracy_score,precision_score,f1_score,recall_score,confusion_matrix\n",
    "print(\"accuracy is:\",accuracy_score(Y_test,y_pred))\n",
    "print(\"precision score:\",precision_score(Y_test,y_pred,average='macro'))\n",
    "print(\"recall_score:\",recall_score(Y_test,y_pred,average='macro'))\n",
    "print('f1 score:',f1_score(Y_test,y_pred,average='macro'))"
   ]
  },
  {
   "cell_type": "code",
   "execution_count": 34,
   "id": "7c3dc12b",
   "metadata": {},
   "outputs": [
    {
     "data": {
      "text/plain": [
       "array([[2126,    7],\n",
       "       [  15, 6734]], dtype=int64)"
      ]
     },
     "execution_count": 34,
     "metadata": {},
     "output_type": "execute_result"
    }
   ],
   "source": [
    "confusion_matrix(Y_test,y_pred)"
   ]
  },
  {
   "cell_type": "code",
   "execution_count": 38,
   "id": "d5701ae0",
   "metadata": {},
   "outputs": [],
   "source": [
    "# Number of trees in random forest\n",
    "n_estimators = [int(x) for x in np.linspace(start = 10, stop = 100, num = 10)]\n",
    "# Number of features to consider at every split\n",
    "max_features = ['auto', 'sqrt']\n",
    "# Maximum number of levels in tree\n",
    "max_depth = [2,4]\n",
    "# Minimum number of samples required to split a node\n",
    "min_samples_split = [2, 5]\n",
    "# Minimum number of samples required at each leaf node\n",
    "min_samples_leaf = [1, 2]\n",
    "# Method of selecting samples for training each tree\n",
    "bootstrap = [True, False]"
   ]
  },
  {
   "cell_type": "code",
   "execution_count": 40,
   "id": "478f0891",
   "metadata": {},
   "outputs": [
    {
     "name": "stderr",
     "output_type": "stream",
     "text": [
      "C:\\Users\\HP\\anaconda3\\lib\\site-packages\\sklearn\\ensemble\\_forest.py:427: FutureWarning: `max_features='auto'` has been deprecated in 1.1 and will be removed in 1.3. To keep the past behaviour, explicitly set `max_features='sqrt'` or remove this parameter as it is also the default value for RandomForestClassifiers and ExtraTreesClassifiers.\n",
      "  warn(\n"
     ]
    }
   ],
   "source": [
    "# Applying Grid Search to find the best model and the best parameters\n",
    "from sklearn.model_selection import GridSearchCV\n",
    "grid_search = GridSearchCV(estimator = random,\n",
    "                           param_grid = {'n_estimators': n_estimators,\n",
    "               'max_features': max_features,\n",
    "               'max_depth': max_depth,\n",
    "               'min_samples_split': min_samples_split,\n",
    "               'min_samples_leaf': min_samples_leaf,\n",
    "               'bootstrap': bootstrap},\n",
    "                           scoring = 'accuracy',\n",
    "                           cv = 3,\n",
    "                           n_jobs = -1)\n",
    "grid_search = grid_search.fit(X_train, Y_train)"
   ]
  },
  {
   "cell_type": "code",
   "execution_count": 41,
   "id": "821b4862",
   "metadata": {},
   "outputs": [],
   "source": [
    "accuracy = grid_search.best_score_"
   ]
  },
  {
   "cell_type": "code",
   "execution_count": 42,
   "id": "5b641c8d",
   "metadata": {},
   "outputs": [
    {
     "data": {
      "text/plain": [
       "0.9848843100827563"
      ]
     },
     "execution_count": 42,
     "metadata": {},
     "output_type": "execute_result"
    }
   ],
   "source": [
    "accuracy"
   ]
  },
  {
   "cell_type": "code",
   "execution_count": 1,
   "id": "34f09b5e",
   "metadata": {},
   "outputs": [],
   "source": [
    "## using Random Forest classifier to predict the data with highest accuracy."
   ]
  },
  {
   "cell_type": "code",
   "execution_count": null,
   "id": "98e18c06",
   "metadata": {},
   "outputs": [],
   "source": []
  }
 ],
 "metadata": {
  "kernelspec": {
   "display_name": "Python 3 (ipykernel)",
   "language": "python",
   "name": "python3"
  },
  "language_info": {
   "codemirror_mode": {
    "name": "ipython",
    "version": 3
   },
   "file_extension": ".py",
   "mimetype": "text/x-python",
   "name": "python",
   "nbconvert_exporter": "python",
   "pygments_lexer": "ipython3",
   "version": "3.9.12"
  }
 },
 "nbformat": 4,
 "nbformat_minor": 5
}
